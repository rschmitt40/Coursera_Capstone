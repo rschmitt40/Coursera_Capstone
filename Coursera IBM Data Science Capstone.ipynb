{
    "cells": [
        {
            "cell_type": "markdown",
            "metadata": {
                "collapsed": true
            },
            "source": "# Data Science Capstone Week 1"
        },
        {
            "cell_type": "code",
            "execution_count": 1,
            "metadata": {},
            "outputs": [],
            "source": "import pandas as pd\nimport numpy as np\nfrom sklearn.cluster import KMeans\nfrom sklearn import tree\nfrom sklearn.tree import DecisionTreeClassifier\nfrom sklearn.model_selection import train_test_split\nfrom sklearn import preprocessing, metrics\nimport matplotlib.pyplot as plt\n%matplotlib inline"
        },
        {
            "cell_type": "code",
            "execution_count": 2,
            "metadata": {},
            "outputs": [
                {
                    "name": "stdout",
                    "output_type": "stream",
                    "text": "Hello Capstone Project Course!\n"
                }
            ],
            "source": "print(\"Hello Capstone Project Course!\")"
        },
        {
            "cell_type": "markdown",
            "metadata": {},
            "source": "# Capstone Week 2"
        },
        {
            "cell_type": "code",
            "execution_count": 3,
            "metadata": {},
            "outputs": [
                {
                    "name": "stderr",
                    "output_type": "stream",
                    "text": "/opt/conda/envs/Python36/lib/python3.6/site-packages/IPython/core/interactiveshell.py:3020: DtypeWarning: Columns (33) have mixed types. Specify dtype option on import or set low_memory=False.\n  interactivity=interactivity, compiler=compiler, result=result)\n"
                },
                {
                    "data": {
                        "text/html": "<div>\n<style scoped>\n    .dataframe tbody tr th:only-of-type {\n        vertical-align: middle;\n    }\n\n    .dataframe tbody tr th {\n        vertical-align: top;\n    }\n\n    .dataframe thead th {\n        text-align: right;\n    }\n</style>\n<table border=\"1\" class=\"dataframe\">\n  <thead>\n    <tr style=\"text-align: right;\">\n      <th></th>\n      <th>SEVERITYCODE</th>\n      <th>X</th>\n      <th>Y</th>\n      <th>OBJECTID</th>\n      <th>INCKEY</th>\n      <th>COLDETKEY</th>\n      <th>REPORTNO</th>\n      <th>STATUS</th>\n      <th>ADDRTYPE</th>\n      <th>INTKEY</th>\n      <th>...</th>\n      <th>ROADCOND</th>\n      <th>LIGHTCOND</th>\n      <th>PEDROWNOTGRNT</th>\n      <th>SDOTCOLNUM</th>\n      <th>SPEEDING</th>\n      <th>ST_COLCODE</th>\n      <th>ST_COLDESC</th>\n      <th>SEGLANEKEY</th>\n      <th>CROSSWALKKEY</th>\n      <th>HITPARKEDCAR</th>\n    </tr>\n  </thead>\n  <tbody>\n    <tr>\n      <th>0</th>\n      <td>2</td>\n      <td>-122.323148</td>\n      <td>47.703140</td>\n      <td>1</td>\n      <td>1307</td>\n      <td>1307</td>\n      <td>3502005</td>\n      <td>Matched</td>\n      <td>Intersection</td>\n      <td>37475.0</td>\n      <td>...</td>\n      <td>Wet</td>\n      <td>Daylight</td>\n      <td>NaN</td>\n      <td>NaN</td>\n      <td>NaN</td>\n      <td>10</td>\n      <td>Entering at angle</td>\n      <td>0</td>\n      <td>0</td>\n      <td>N</td>\n    </tr>\n    <tr>\n      <th>1</th>\n      <td>1</td>\n      <td>-122.347294</td>\n      <td>47.647172</td>\n      <td>2</td>\n      <td>52200</td>\n      <td>52200</td>\n      <td>2607959</td>\n      <td>Matched</td>\n      <td>Block</td>\n      <td>NaN</td>\n      <td>...</td>\n      <td>Wet</td>\n      <td>Dark - Street Lights On</td>\n      <td>NaN</td>\n      <td>6354039.0</td>\n      <td>NaN</td>\n      <td>11</td>\n      <td>From same direction - both going straight - bo...</td>\n      <td>0</td>\n      <td>0</td>\n      <td>N</td>\n    </tr>\n    <tr>\n      <th>2</th>\n      <td>1</td>\n      <td>-122.334540</td>\n      <td>47.607871</td>\n      <td>3</td>\n      <td>26700</td>\n      <td>26700</td>\n      <td>1482393</td>\n      <td>Matched</td>\n      <td>Block</td>\n      <td>NaN</td>\n      <td>...</td>\n      <td>Dry</td>\n      <td>Daylight</td>\n      <td>NaN</td>\n      <td>4323031.0</td>\n      <td>NaN</td>\n      <td>32</td>\n      <td>One parked--one moving</td>\n      <td>0</td>\n      <td>0</td>\n      <td>N</td>\n    </tr>\n    <tr>\n      <th>3</th>\n      <td>1</td>\n      <td>-122.334803</td>\n      <td>47.604803</td>\n      <td>4</td>\n      <td>1144</td>\n      <td>1144</td>\n      <td>3503937</td>\n      <td>Matched</td>\n      <td>Block</td>\n      <td>NaN</td>\n      <td>...</td>\n      <td>Dry</td>\n      <td>Daylight</td>\n      <td>NaN</td>\n      <td>NaN</td>\n      <td>NaN</td>\n      <td>23</td>\n      <td>From same direction - all others</td>\n      <td>0</td>\n      <td>0</td>\n      <td>N</td>\n    </tr>\n    <tr>\n      <th>4</th>\n      <td>2</td>\n      <td>-122.306426</td>\n      <td>47.545739</td>\n      <td>5</td>\n      <td>17700</td>\n      <td>17700</td>\n      <td>1807429</td>\n      <td>Matched</td>\n      <td>Intersection</td>\n      <td>34387.0</td>\n      <td>...</td>\n      <td>Wet</td>\n      <td>Daylight</td>\n      <td>NaN</td>\n      <td>4028032.0</td>\n      <td>NaN</td>\n      <td>10</td>\n      <td>Entering at angle</td>\n      <td>0</td>\n      <td>0</td>\n      <td>N</td>\n    </tr>\n  </tbody>\n</table>\n<p>5 rows \u00d7 38 columns</p>\n</div>",
                        "text/plain": "   SEVERITYCODE           X          Y  OBJECTID  INCKEY  COLDETKEY REPORTNO  \\\n0             2 -122.323148  47.703140         1    1307       1307  3502005   \n1             1 -122.347294  47.647172         2   52200      52200  2607959   \n2             1 -122.334540  47.607871         3   26700      26700  1482393   \n3             1 -122.334803  47.604803         4    1144       1144  3503937   \n4             2 -122.306426  47.545739         5   17700      17700  1807429   \n\n    STATUS      ADDRTYPE   INTKEY  ... ROADCOND                LIGHTCOND  \\\n0  Matched  Intersection  37475.0  ...      Wet                 Daylight   \n1  Matched         Block      NaN  ...      Wet  Dark - Street Lights On   \n2  Matched         Block      NaN  ...      Dry                 Daylight   \n3  Matched         Block      NaN  ...      Dry                 Daylight   \n4  Matched  Intersection  34387.0  ...      Wet                 Daylight   \n\n  PEDROWNOTGRNT  SDOTCOLNUM SPEEDING ST_COLCODE  \\\n0           NaN         NaN      NaN         10   \n1           NaN   6354039.0      NaN         11   \n2           NaN   4323031.0      NaN         32   \n3           NaN         NaN      NaN         23   \n4           NaN   4028032.0      NaN         10   \n\n                                          ST_COLDESC  SEGLANEKEY  \\\n0                                  Entering at angle           0   \n1  From same direction - both going straight - bo...           0   \n2                             One parked--one moving           0   \n3                   From same direction - all others           0   \n4                                  Entering at angle           0   \n\n   CROSSWALKKEY  HITPARKEDCAR  \n0             0             N  \n1             0             N  \n2             0             N  \n3             0             N  \n4             0             N  \n\n[5 rows x 38 columns]"
                    },
                    "execution_count": 3,
                    "metadata": {},
                    "output_type": "execute_result"
                }
            ],
            "source": "# The code was removed by Watson Studio for sharing."
        },
        {
            "cell_type": "markdown",
            "metadata": {},
            "source": "## Check datatypes of imported data"
        },
        {
            "cell_type": "code",
            "execution_count": 4,
            "metadata": {},
            "outputs": [
                {
                    "data": {
                        "text/plain": "SEVERITYCODE        int64\nX                 float64\nY                 float64\nOBJECTID            int64\nINCKEY              int64\nCOLDETKEY           int64\nREPORTNO           object\nSTATUS             object\nADDRTYPE           object\nINTKEY            float64\nLOCATION           object\nEXCEPTRSNCODE      object\nEXCEPTRSNDESC      object\nSEVERITYCODE.1      int64\nSEVERITYDESC       object\nCOLLISIONTYPE      object\nPERSONCOUNT         int64\nPEDCOUNT            int64\nPEDCYLCOUNT         int64\nVEHCOUNT            int64\nINCDATE            object\nINCDTTM            object\nJUNCTIONTYPE       object\nSDOT_COLCODE        int64\nSDOT_COLDESC       object\nINATTENTIONIND     object\nUNDERINFL          object\nWEATHER            object\nROADCOND           object\nLIGHTCOND          object\nPEDROWNOTGRNT      object\nSDOTCOLNUM        float64\nSPEEDING           object\nST_COLCODE         object\nST_COLDESC         object\nSEGLANEKEY          int64\nCROSSWALKKEY        int64\nHITPARKEDCAR       object\ndtype: object"
                    },
                    "execution_count": 4,
                    "metadata": {},
                    "output_type": "execute_result"
                }
            ],
            "source": "df.dtypes"
        },
        {
            "cell_type": "code",
            "execution_count": 5,
            "metadata": {},
            "outputs": [
                {
                    "data": {
                        "text/plain": "Property Damage Only Collision    136485\nInjury Collision                   58188\nName: SEVERITYDESC, dtype: int64"
                    },
                    "execution_count": 5,
                    "metadata": {},
                    "output_type": "execute_result"
                }
            ],
            "source": "df['SEVERITYDESC'].value_counts()"
        },
        {
            "cell_type": "markdown",
            "metadata": {},
            "source": "## Drop features that have no impact on outcome, such as arbitrary report numbers, etc."
        },
        {
            "cell_type": "code",
            "execution_count": 6,
            "metadata": {},
            "outputs": [],
            "source": "df.drop(['OBJECTID', 'INCKEY', 'COLDETKEY', 'REPORTNO', 'EXCEPTRSNCODE', 'EXCEPTRSNDESC', 'INCDATE', 'SEVERITYCODE.1', 'ST_COLDESC'], 1, inplace = True)"
        },
        {
            "cell_type": "markdown",
            "metadata": {},
            "source": "## Preprocessing - Review each feature and fill in the NA's."
        },
        {
            "cell_type": "code",
            "execution_count": 7,
            "metadata": {},
            "outputs": [
                {
                    "data": {
                        "text/plain": "Mid-Block (not related to intersection)              89800\nAt Intersection (intersection related)               62810\nMid-Block (but intersection related)                 22790\nDriveway Junction                                    10671\nUnknown                                               6338\nAt Intersection (but not related to intersection)     2098\nRamp Junction                                          166\nName: JUNCTIONTYPE, dtype: int64"
                    },
                    "execution_count": 7,
                    "metadata": {},
                    "output_type": "execute_result"
                }
            ],
            "source": "df['SPEEDING'].fillna('N', inplace =True)\ndf['SPEEDING'].value_counts()\ndf['INATTENTIONIND'].fillna('N', inplace =True)\ndf['INATTENTIONIND'].value_counts()\ndf['ROADCOND'].fillna('Unknown', inplace = True)\ndf['ROADCOND'].value_counts()\ndf['LIGHTCOND'].fillna('Unknown', inplace = True)\ndf['LIGHTCOND'].value_counts()\ndf['PEDROWNOTGRNT'].fillna('N', inplace = True)\ndf['PEDROWNOTGRNT'].value_counts()\ndf['SDOTCOLNUM'].fillna(0, inplace = True)\ndf['ST_COLCODE'].fillna(31, inplace = True)\ndf['JUNCTIONTYPE'].fillna('Unknown', inplace = True)\ndf['JUNCTIONTYPE'].value_counts()"
        },
        {
            "cell_type": "markdown",
            "metadata": {},
            "source": "## Checking how many more features have NA's"
        },
        {
            "cell_type": "code",
            "execution_count": 8,
            "metadata": {},
            "outputs": [
                {
                    "data": {
                        "text/plain": "SEVERITYCODE           0\nX                   5334\nY                   5334\nSTATUS                 0\nADDRTYPE            1926\nINTKEY            129603\nLOCATION            2677\nSEVERITYDESC           0\nCOLLISIONTYPE       4904\nPERSONCOUNT            0\nPEDCOUNT               0\nPEDCYLCOUNT            0\nVEHCOUNT               0\nINCDTTM                0\nJUNCTIONTYPE           0\nSDOT_COLCODE           0\nSDOT_COLDESC           0\nINATTENTIONIND         0\nUNDERINFL           4884\nWEATHER             5081\nROADCOND               0\nLIGHTCOND              0\nPEDROWNOTGRNT          0\nSDOTCOLNUM             0\nSPEEDING               0\nST_COLCODE             0\nSEGLANEKEY             0\nCROSSWALKKEY           0\nHITPARKEDCAR           0\ndtype: int64"
                    },
                    "execution_count": 8,
                    "metadata": {},
                    "output_type": "execute_result"
                }
            ],
            "source": "df.isnull().sum(axis = 0)"
        },
        {
            "cell_type": "code",
            "execution_count": 9,
            "metadata": {},
            "outputs": [
                {
                    "data": {
                        "text/plain": "Parked Car    47987\nAngles        34674\nRear Ended    34090\nOther         28607\nSideswipe     18609\nLeft Turn     13703\nPedestrian     6608\nCycles         5415\nRight Turn     2956\nHead On        2024\nName: COLLISIONTYPE, dtype: int64"
                    },
                    "execution_count": 9,
                    "metadata": {},
                    "output_type": "execute_result"
                }
            ],
            "source": "df['ADDRTYPE'].fillna('Block', inplace = True)\ndf['ADDRTYPE'].value_counts()\ndf['WEATHER'].fillna('Other', inplace = True)\ndf['WEATHER'].value_counts()\ndf['UNDERINFL'].replace({'N':'0', 'Y':'1'}, inplace = True)\ndf['UNDERINFL'].value_counts()\ndf['COLLISIONTYPE'].fillna('Other', inplace = True)\ndf['COLLISIONTYPE'].value_counts()"
        },
        {
            "cell_type": "markdown",
            "metadata": {},
            "source": "## Filling in the remaining NA's with '0'"
        },
        {
            "cell_type": "code",
            "execution_count": 10,
            "metadata": {},
            "outputs": [
                {
                    "data": {
                        "text/plain": "SEVERITYCODE        int64\nX                 float64\nY                 float64\nSTATUS             object\nADDRTYPE           object\nINTKEY            float64\nLOCATION           object\nSEVERITYDESC       object\nCOLLISIONTYPE      object\nPERSONCOUNT         int64\nPEDCOUNT            int64\nPEDCYLCOUNT         int64\nVEHCOUNT            int64\nINCDTTM            object\nJUNCTIONTYPE       object\nSDOT_COLCODE        int64\nSDOT_COLDESC       object\nINATTENTIONIND     object\nUNDERINFL          object\nWEATHER            object\nROADCOND           object\nLIGHTCOND          object\nPEDROWNOTGRNT      object\nSDOTCOLNUM        float64\nSPEEDING           object\nST_COLCODE         object\nSEGLANEKEY          int64\nCROSSWALKKEY        int64\nHITPARKEDCAR       object\ndtype: object"
                    },
                    "execution_count": 10,
                    "metadata": {},
                    "output_type": "execute_result"
                }
            ],
            "source": "df.fillna(0, inplace = True)\ndf.dtypes"
        },
        {
            "cell_type": "markdown",
            "metadata": {},
            "source": "## Handling the non-numerical data"
        },
        {
            "cell_type": "code",
            "execution_count": 11,
            "metadata": {},
            "outputs": [
                {
                    "data": {
                        "text/plain": "<bound method NDFrame.head of         SEVERITYCODE           X          Y  STATUS  ADDRTYPE   INTKEY  \\\n0                  2 -122.323148  47.703140       0         0  37475.0   \n1                  1 -122.347294  47.647172       0         1      0.0   \n2                  1 -122.334540  47.607871       0         1      0.0   \n3                  1 -122.334803  47.604803       0         1      0.0   \n4                  2 -122.306426  47.545739       0         0  34387.0   \n5                  1 -122.387598  47.690575       0         0  36974.0   \n6                  1 -122.338485  47.618534       0         0  29510.0   \n7                  2 -122.320780  47.614076       0         0  29745.0   \n8                  1 -122.335930  47.611904       0         1      0.0   \n9                  2 -122.384700  47.528475       0         0  34679.0   \n10                 1    0.000000   0.000000       0         2      0.0   \n11                 1 -122.333831  47.547371       0         0  33194.0   \n12                 1 -122.356273  47.571375       1         1      0.0   \n13                 1 -122.323966  47.606374       0         1      0.0   \n14                 2 -122.317414  47.664028       0         1      0.0   \n15                 1 -122.337663  47.617510       1         1      0.0   \n16                 2 -122.344539  47.692012       0         0  37365.0   \n17                 1    0.000000   0.000000       0         1      0.0   \n18                 2 -122.328270  47.571420       0         1      0.0   \n19                 1 -122.383802  47.583715       0         1      0.0   \n20                 2 -122.292403  47.732847       0         1      0.0   \n21                 2 -122.313786  47.708535       0         0  36505.0   \n22                 1 -122.318169  47.615837       0         1      0.0   \n23                 1 -122.337486  47.589746       0         1      0.0   \n24                 2 -122.279658  47.553405       0         0  33499.0   \n25                 2 -122.312857  47.599218       0         1      0.0   \n26                 1 -122.330730  47.615450       0         0  29865.0   \n27                 1 -122.385859  47.581191       0         1      0.0   \n28                 1 -122.304990  47.611474       0         1      0.0   \n29                 1    0.000000   0.000000       0         1      0.0   \n...              ...         ...        ...     ...       ...      ...   \n194643             1 -122.345863  47.612991       0         1      0.0   \n194644             1 -122.330298  47.603233       0         0  30479.0   \n194645             2 -122.328079  47.604161       0         0  29973.0   \n194646             1 -122.320756  47.608656       1         1      0.0   \n194647             2 -122.355449  47.704720       0         1      0.0   \n194648             1 -122.357624  47.635956       0         1      0.0   \n194649             2 -122.302382  47.626759       0         0  29328.0   \n194650             2 -122.355298  47.684382       0         1      0.0   \n194651             1 -122.320780  47.614076       0         0  29745.0   \n194652             1 -122.335527  47.617434       0         1      0.0   \n194653             2 -122.322097  47.649615       0         1      0.0   \n194654             1 -122.312679  47.719414       1         0  36427.0   \n194655             2 -122.380016  47.664879       1         0  25174.0   \n194656             2 -122.340474  47.614496       0         0  29545.0   \n194657             1 -122.337137  47.610709       0         1      0.0   \n194658             1 -122.302554  47.584099       0         1      0.0   \n194659             1 -122.298955  47.717456       0         1      0.0   \n194660             2    0.000000   0.000000       0         1      0.0   \n194661             2 -122.306092  47.617881       0         1      0.0   \n194662             1 -122.337880  47.625793       0         1      0.0   \n194663             2 -122.299160  47.579673       0         1      0.0   \n194664             1 -122.325887  47.643191       0         0  28300.0   \n194665             1 -122.304217  47.669537       0         0  26005.0   \n194666             2 -122.344569  47.694547       0         1      0.0   \n194667             1 -122.361672  47.556722       0         1      0.0   \n194668             2 -122.290826  47.565408       0         1      0.0   \n194669             1 -122.344526  47.690924       0         1      0.0   \n194670             2 -122.306689  47.683047       0         0  24760.0   \n194671             2 -122.355317  47.678734       0         0  24349.0   \n194672             1 -122.289360  47.611017       0         1      0.0   \n\n        LOCATION  SEVERITYDESC  COLLISIONTYPE  PERSONCOUNT  ...  WEATHER  \\\n0           9104             1              7            2  ...        2   \n1          16481             0              9            2  ...        8   \n2          16109             0              8            4  ...        2   \n3          14696             0              3            3  ...        9   \n4          23128             1              7            2  ...        8   \n5          21207             0              7            2  ...        9   \n6          18084             0              7            2  ...        8   \n7          11275             1              1            3  ...        9   \n8           1155             0              8            2  ...        9   \n9          10779             1              7            2  ...        9   \n10             0             0              3            2  ...        2   \n11         20501             0              7            2  ...        9   \n12          1599             0              0            0  ...        8   \n13          4964             0              8            2  ...        8   \n14         21791             1              4            2  ...        9   \n15         20936             0              3            1  ...        3   \n16         15376             1              5            3  ...        2   \n17         21234             0              0            0  ...        2   \n18         22772             1              0            4  ...        9   \n19         22417             0              8            2  ...        4   \n20         16200             1              0            3  ...        9   \n21         20395             1              7            5  ...        9   \n22         23559             0              8            2  ...        9   \n23         15425             0              3            1  ...        4   \n24           211             1              0            3  ...        9   \n25          3355             1              1            2  ...        9   \n26          3981             0              5            2  ...        2   \n27         13647             0              7            2  ...        9   \n28         11279             0              3            2  ...        9   \n29          3302             0              8            2  ...        9   \n...          ...           ...            ...          ...  ...      ...   \n194643     18058             0              8            2  ...        9   \n194644      6006             0              7            2  ...        9   \n194645      2939             1              2            5  ...        9   \n194646     14966             0              3            2  ...        3   \n194647     20468             1              6            2  ...        8   \n194648      4434             0              7            2  ...        8   \n194649      3358             1              5            6  ...        9   \n194650     13730             1              8            5  ...        9   \n194651     11275             0              6            3  ...        9   \n194652     22448             0              8            3  ...        2   \n194653     14761             1              8            6  ...        2   \n194654     22101             0              3            2  ...        3   \n194655     19305             1              3            4  ...        3   \n194656      9043             1              6            2  ...        9   \n194657     22467             0              9            2  ...        8   \n194658     13055             0              0            3  ...        8   \n194659      2962             0              8            2  ...        8   \n194660     22591             1              3            1  ...        8   \n194661     19175             1              5            2  ...        9   \n194662      7954             0              8            2  ...        9   \n194663     20997             1              7            3  ...        8   \n194664      8791             0              7            8  ...        9   \n194665     14081             0              7            2  ...        9   \n194666     20986             1              7            2  ...        9   \n194667     23211             0              3            1  ...        8   \n194668     22979             1              4            3  ...        9   \n194669      6239             0              0            2  ...        8   \n194670     22099             1              5            3  ...        9   \n194671     11315             1              1            2  ...        9   \n194672      6128             0              0            2  ...        9   \n\n        ROADCOND  LIGHTCOND  PEDROWNOTGRNT  SDOTCOLNUM  SPEEDING  ST_COLCODE  \\\n0              6          7              1         0.0         1         108   \n1              6          1              1   6354039.0         1          85   \n2              1          7              1   4323031.0         1          71   \n3              1          7              1         0.0         1         107   \n4              6          7              1   4028032.0         1         108   \n5              1          7              1         0.0         1         108   \n6              6          7              1   8344002.0         1         108   \n7              1          7              1         0.0         1          72   \n8              1          7              1   6166014.0         1          71   \n9              1          7              1   6079001.0         1         108   \n10             1          7              1   6145029.0         1          60   \n11             1          7              1   5223041.0         1         108   \n12             6          1              1   3137016.0         1         103   \n13             6          8              1   5356027.0         1          71   \n14             1          1              1         0.0         1          63   \n15             4          4              1         0.0         1          94   \n16             1          7              1   5182022.0         1          95   \n17             1          7              1   4016025.0         1         103   \n18             1          7              1         0.0         1         103   \n19             1          4              1   9152035.0         1          71   \n20             1          1              1         0.0         1         103   \n21             1          7              1         0.0         1         108   \n22             1          1              1   8200013.0         1          71   \n23             4          4              1   4256026.0         1          67   \n24             1          7              1         0.0         0         103   \n25             1          7              1         0.0         1          72   \n26             6          4              1  10317016.0         1          95   \n27             1          7              1   7204015.0         1         108   \n28             1          7              1         0.0         1         107   \n29             1          7              1   6320040.0         1          71   \n...          ...        ...            ...         ...       ...         ...   \n194643         1          1              1         0.0         1          86   \n194644         1          3              1         0.0         1         108   \n194645         1          1              1         0.0         1          81   \n194646         4          4              1         0.0         1          94   \n194647         6          3              1         0.0         1          78   \n194648         6          1              1         0.0         1         108   \n194649         1          1              1         0.0         1          95   \n194650         1          7              1         0.0         1          71   \n194651         6          1              1         0.0         1          78   \n194652         6          3              1         0.0         1          71   \n194653         6          1              1         0.0         1          71   \n194654         4          4              1         0.0         1          94   \n194655         4          4              1         0.0         1          94   \n194656         1          7              1         0.0         1          84   \n194657         6          1              1         0.0         1          85   \n194658         6          1              1         0.0         1         103   \n194659         6          1              1         0.0         1          71   \n194660         6          2              1         0.0         1          96   \n194661         1          7              1         0.0         1          75   \n194662         1          3              1         0.0         1          71   \n194663         6          7              1         0.0         1         108   \n194664         1          7              1         0.0         1         108   \n194665         1          7              1         0.0         1         108   \n194666         6          7              1         0.0         1         108   \n194667         6          1              1         0.0         1          45   \n194668         1          7              1         0.0         1          77   \n194669         6          7              1         0.0         1          68   \n194670         1          7              1         0.0         1          95   \n194671         1          3              1         0.0         1          72   \n194672         6          7              1         0.0         1         103   \n\n        SEGLANEKEY  CROSSWALKKEY  HITPARKEDCAR  \n0                0             0             1  \n1                0             0             1  \n2                0             0             1  \n3                0             0             1  \n4                0             0             1  \n5                0             0             1  \n6                0             0             1  \n7             6855             0             1  \n8                0             0             1  \n9                0             0             1  \n10               0             0             1  \n11               0             0             1  \n12               0             0             1  \n13               0             0             1  \n14               0             0             1  \n15               0             0             1  \n16               0             0             1  \n17               0             0             1  \n18               0             0             1  \n19               0             0             1  \n20               0             0             1  \n21               0             0             1  \n22               0             0             1  \n23               0             0             1  \n24               0             0             1  \n25               0             0             1  \n26               0             0             1  \n27               0             0             1  \n28               0             0             1  \n29               0             0             1  \n...            ...           ...           ...  \n194643           0             0             1  \n194644           0             0             1  \n194645           0             0             1  \n194646           0             0             1  \n194647           0             0             1  \n194648           0             0             1  \n194649           0             0             1  \n194650           0             0             0  \n194651           0        522257             1  \n194652           0             0             0  \n194653           0             0             0  \n194654           0             0             1  \n194655           0        650595             1  \n194656           0        523322             1  \n194657           0             0             1  \n194658           0             0             1  \n194659           0             0             0  \n194660           0             0             1  \n194661           0             0             1  \n194662           0             0             0  \n194663           0             0             1  \n194664           0             0             1  \n194665           0             0             1  \n194666           0             0             1  \n194667           0             0             1  \n194668           0             0             1  \n194669           0             0             1  \n194670           0             0             1  \n194671        4308             0             1  \n194672           0             0             1  \n\n[194673 rows x 29 columns]>"
                    },
                    "execution_count": 11,
                    "metadata": {},
                    "output_type": "execute_result"
                }
            ],
            "source": "def handle_non_numerical_data(df):\n    columns = df.columns.values\n    \n    for column in columns:\n        text_digit_vals = {}\n        def convert_to_int(val):\n            return text_digit_vals[val]\n        \n        if df[column].dtype != np.int64 and df[column].dtype != np.float64:\n            column_contents = df[column].values.tolist()\n            unique_elements = set(column_contents)\n            x = 0\n            for unique in unique_elements:\n                if unique not in text_digit_vals:\n                    text_digit_vals[unique] = x\n                    x += 1\n            df[column] = list(map(convert_to_int, df[column]))\n    return df\ndf = handle_non_numerical_data(df)\ndf.head"
        },
        {
            "cell_type": "code",
            "execution_count": 12,
            "metadata": {},
            "outputs": [
                {
                    "data": {
                        "text/plain": "1    136485\n2     58188\nName: SEVERITYCODE, dtype: int64"
                    },
                    "execution_count": 12,
                    "metadata": {},
                    "output_type": "execute_result"
                }
            ],
            "source": "df['SEVERITYCODE'].value_counts() #Even though the metadata description shows 5 codes to classify severity, how many are actually present in the data?"
        },
        {
            "cell_type": "markdown",
            "metadata": {},
            "source": "## Setting up the Decision Tree Classifier"
        },
        {
            "cell_type": "code",
            "execution_count": 13,
            "metadata": {},
            "outputs": [
                {
                    "data": {
                        "text/plain": "DecisionTreeClassifier(class_weight=None, criterion='entropy', max_depth=4,\n            max_features=None, max_leaf_nodes=None,\n            min_impurity_decrease=0.0, min_impurity_split=None,\n            min_samples_leaf=1, min_samples_split=2,\n            min_weight_fraction_leaf=0.0, presort=False, random_state=None,\n            splitter='best')"
                    },
                    "execution_count": 13,
                    "metadata": {},
                    "output_type": "execute_result"
                }
            ],
            "source": "X = np.array(df.drop(['SEVERITYCODE'],1).astype(float))\ny = np.array(df['SEVERITYCODE'])\nX_train, X_test, y_train, y_test = train_test_split(X, y, test_size = 0.3)\nclf = DecisionTreeClassifier(criterion = \"entropy\", max_depth = 4)\nclf.fit(X_train, y_train)"
        },
        {
            "cell_type": "code",
            "execution_count": 14,
            "metadata": {},
            "outputs": [],
            "source": "prediction = clf.predict(X_test)"
        },
        {
            "cell_type": "code",
            "execution_count": 15,
            "metadata": {},
            "outputs": [
                {
                    "name": "stdout",
                    "output_type": "stream",
                    "text": "DecisionTrees's Accuracy:  1.0\n"
                }
            ],
            "source": "print(\"DecisionTrees's Accuracy: \", metrics.accuracy_score(y_test, prediction)) #Perfect accuracy!!! What!?!?!?"
        },
        {
            "cell_type": "code",
            "execution_count": null,
            "metadata": {},
            "outputs": [],
            "source": ""
        }
    ],
    "metadata": {
        "kernelspec": {
            "display_name": "Python 3.6",
            "language": "python",
            "name": "python3"
        },
        "language_info": {
            "codemirror_mode": {
                "name": "ipython",
                "version": 3
            },
            "file_extension": ".py",
            "mimetype": "text/x-python",
            "name": "python",
            "nbconvert_exporter": "python",
            "pygments_lexer": "ipython3",
            "version": "3.6.9"
        }
    },
    "nbformat": 4,
    "nbformat_minor": 1
}