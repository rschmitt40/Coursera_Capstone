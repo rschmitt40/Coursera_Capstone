{
    "cells": [
        {
            "cell_type": "code",
            "execution_count": 4,
            "metadata": {},
            "outputs": [
                {
                    "name": "stdout",
                    "output_type": "stream",
                    "text": "Collecting sklearn\n  Downloading https://files.pythonhosted.org/packages/1e/7a/dbb3be0ce9bd5c8b7e3d87328e79063f8b263b2b1bfa4774cb1147bfcd3f/sklearn-0.0.tar.gz\nRequirement already satisfied, skipping upgrade: scikit-learn in /opt/conda/envs/Python36/lib/python3.6/site-packages (from sklearn) (0.20.3)\nRequirement already satisfied, skipping upgrade: scipy>=0.13.3 in /opt/conda/envs/Python36/lib/python3.6/site-packages (from scikit-learn->sklearn) (1.2.0)\nRequirement already satisfied, skipping upgrade: numpy>=1.8.2 in /opt/conda/envs/Python36/lib/python3.6/site-packages (from scikit-learn->sklearn) (1.15.4)\nBuilding wheels for collected packages: sklearn\n  Building wheel for sklearn (setup.py) ... \u001b[?25ldone\n\u001b[?25h  Stored in directory: /home/dsxuser/.cache/pip/wheels/76/03/bb/589d421d27431bcd2c6da284d5f2286c8e3b2ea3cf1594c074\nSuccessfully built sklearn\nInstalling collected packages: sklearn\nSuccessfully installed sklearn-0.0\n"
                }
            ],
            "source": "!pip install -U sklearn"
        },
        {
            "cell_type": "markdown",
            "metadata": {
                "collapsed": true
            },
            "source": "# Data Science Capstone Week 1"
        },
        {
            "cell_type": "code",
            "execution_count": 25,
            "metadata": {},
            "outputs": [],
            "source": "import pandas as pd\nimport numpy as np\nfrom sklearn.cluster import KMeans\nfrom sklearn import tree\nfrom sklearn.tree import DecisionTreeClassifier, export_graphviz\nfrom sklearn.neighbors import KNeighborsClassifier\nfrom sklearn.model_selection import train_test_split\nfrom sklearn import preprocessing, metrics, svm\nimport matplotlib.pyplot as plt\n%matplotlib inline"
        },
        {
            "cell_type": "code",
            "execution_count": 6,
            "metadata": {},
            "outputs": [
                {
                    "name": "stdout",
                    "output_type": "stream",
                    "text": "Hello Capstone Project Course!\n"
                }
            ],
            "source": "print(\"Hello Capstone Project Course!\")"
        },
        {
            "cell_type": "markdown",
            "metadata": {},
            "source": "# Capstone Week 2"
        },
        {
            "cell_type": "markdown",
            "metadata": {},
            "source": "Loading data"
        },
        {
            "cell_type": "code",
            "execution_count": 7,
            "metadata": {},
            "outputs": [
                {
                    "name": "stderr",
                    "output_type": "stream",
                    "text": "/opt/conda/envs/Python36/lib/python3.6/site-packages/IPython/core/interactiveshell.py:3020: DtypeWarning: Columns (33) have mixed types. Specify dtype option on import or set low_memory=False.\n  interactivity=interactivity, compiler=compiler, result=result)\n"
                },
                {
                    "data": {
                        "text/html": "<div>\n<style scoped>\n    .dataframe tbody tr th:only-of-type {\n        vertical-align: middle;\n    }\n\n    .dataframe tbody tr th {\n        vertical-align: top;\n    }\n\n    .dataframe thead th {\n        text-align: right;\n    }\n</style>\n<table border=\"1\" class=\"dataframe\">\n  <thead>\n    <tr style=\"text-align: right;\">\n      <th></th>\n      <th>SEVERITYCODE</th>\n      <th>X</th>\n      <th>Y</th>\n      <th>OBJECTID</th>\n      <th>INCKEY</th>\n      <th>COLDETKEY</th>\n      <th>REPORTNO</th>\n      <th>STATUS</th>\n      <th>ADDRTYPE</th>\n      <th>INTKEY</th>\n      <th>...</th>\n      <th>ROADCOND</th>\n      <th>LIGHTCOND</th>\n      <th>PEDROWNOTGRNT</th>\n      <th>SDOTCOLNUM</th>\n      <th>SPEEDING</th>\n      <th>ST_COLCODE</th>\n      <th>ST_COLDESC</th>\n      <th>SEGLANEKEY</th>\n      <th>CROSSWALKKEY</th>\n      <th>HITPARKEDCAR</th>\n    </tr>\n  </thead>\n  <tbody>\n    <tr>\n      <th>0</th>\n      <td>2</td>\n      <td>-122.323148</td>\n      <td>47.703140</td>\n      <td>1</td>\n      <td>1307</td>\n      <td>1307</td>\n      <td>3502005</td>\n      <td>Matched</td>\n      <td>Intersection</td>\n      <td>37475.0</td>\n      <td>...</td>\n      <td>Wet</td>\n      <td>Daylight</td>\n      <td>NaN</td>\n      <td>NaN</td>\n      <td>NaN</td>\n      <td>10</td>\n      <td>Entering at angle</td>\n      <td>0</td>\n      <td>0</td>\n      <td>N</td>\n    </tr>\n    <tr>\n      <th>1</th>\n      <td>1</td>\n      <td>-122.347294</td>\n      <td>47.647172</td>\n      <td>2</td>\n      <td>52200</td>\n      <td>52200</td>\n      <td>2607959</td>\n      <td>Matched</td>\n      <td>Block</td>\n      <td>NaN</td>\n      <td>...</td>\n      <td>Wet</td>\n      <td>Dark - Street Lights On</td>\n      <td>NaN</td>\n      <td>6354039.0</td>\n      <td>NaN</td>\n      <td>11</td>\n      <td>From same direction - both going straight - bo...</td>\n      <td>0</td>\n      <td>0</td>\n      <td>N</td>\n    </tr>\n    <tr>\n      <th>2</th>\n      <td>1</td>\n      <td>-122.334540</td>\n      <td>47.607871</td>\n      <td>3</td>\n      <td>26700</td>\n      <td>26700</td>\n      <td>1482393</td>\n      <td>Matched</td>\n      <td>Block</td>\n      <td>NaN</td>\n      <td>...</td>\n      <td>Dry</td>\n      <td>Daylight</td>\n      <td>NaN</td>\n      <td>4323031.0</td>\n      <td>NaN</td>\n      <td>32</td>\n      <td>One parked--one moving</td>\n      <td>0</td>\n      <td>0</td>\n      <td>N</td>\n    </tr>\n    <tr>\n      <th>3</th>\n      <td>1</td>\n      <td>-122.334803</td>\n      <td>47.604803</td>\n      <td>4</td>\n      <td>1144</td>\n      <td>1144</td>\n      <td>3503937</td>\n      <td>Matched</td>\n      <td>Block</td>\n      <td>NaN</td>\n      <td>...</td>\n      <td>Dry</td>\n      <td>Daylight</td>\n      <td>NaN</td>\n      <td>NaN</td>\n      <td>NaN</td>\n      <td>23</td>\n      <td>From same direction - all others</td>\n      <td>0</td>\n      <td>0</td>\n      <td>N</td>\n    </tr>\n    <tr>\n      <th>4</th>\n      <td>2</td>\n      <td>-122.306426</td>\n      <td>47.545739</td>\n      <td>5</td>\n      <td>17700</td>\n      <td>17700</td>\n      <td>1807429</td>\n      <td>Matched</td>\n      <td>Intersection</td>\n      <td>34387.0</td>\n      <td>...</td>\n      <td>Wet</td>\n      <td>Daylight</td>\n      <td>NaN</td>\n      <td>4028032.0</td>\n      <td>NaN</td>\n      <td>10</td>\n      <td>Entering at angle</td>\n      <td>0</td>\n      <td>0</td>\n      <td>N</td>\n    </tr>\n  </tbody>\n</table>\n<p>5 rows \u00d7 38 columns</p>\n</div>",
                        "text/plain": "   SEVERITYCODE           X          Y  OBJECTID  INCKEY  COLDETKEY REPORTNO  \\\n0             2 -122.323148  47.703140         1    1307       1307  3502005   \n1             1 -122.347294  47.647172         2   52200      52200  2607959   \n2             1 -122.334540  47.607871         3   26700      26700  1482393   \n3             1 -122.334803  47.604803         4    1144       1144  3503937   \n4             2 -122.306426  47.545739         5   17700      17700  1807429   \n\n    STATUS      ADDRTYPE   INTKEY  ... ROADCOND                LIGHTCOND  \\\n0  Matched  Intersection  37475.0  ...      Wet                 Daylight   \n1  Matched         Block      NaN  ...      Wet  Dark - Street Lights On   \n2  Matched         Block      NaN  ...      Dry                 Daylight   \n3  Matched         Block      NaN  ...      Dry                 Daylight   \n4  Matched  Intersection  34387.0  ...      Wet                 Daylight   \n\n  PEDROWNOTGRNT  SDOTCOLNUM SPEEDING ST_COLCODE  \\\n0           NaN         NaN      NaN         10   \n1           NaN   6354039.0      NaN         11   \n2           NaN   4323031.0      NaN         32   \n3           NaN         NaN      NaN         23   \n4           NaN   4028032.0      NaN         10   \n\n                                          ST_COLDESC  SEGLANEKEY  \\\n0                                  Entering at angle           0   \n1  From same direction - both going straight - bo...           0   \n2                             One parked--one moving           0   \n3                   From same direction - all others           0   \n4                                  Entering at angle           0   \n\n   CROSSWALKKEY  HITPARKEDCAR  \n0             0             N  \n1             0             N  \n2             0             N  \n3             0             N  \n4             0             N  \n\n[5 rows x 38 columns]"
                    },
                    "execution_count": 7,
                    "metadata": {},
                    "output_type": "execute_result"
                }
            ],
            "source": "# The code was removed by Watson Studio for sharing."
        },
        {
            "cell_type": "markdown",
            "metadata": {},
            "source": "## Drop features that have no impact on outcome, such as arbitrary report numbers, etc."
        },
        {
            "cell_type": "code",
            "execution_count": 8,
            "metadata": {},
            "outputs": [],
            "source": "df.drop(['OBJECTID', 'INCKEY', 'INTKEY', 'COLDETKEY', 'REPORTNO', 'EXCEPTRSNCODE', 'EXCEPTRSNDESC', 'INCDATE', 'SEVERITYCODE.1', 'SEVERITYDESC', 'ST_COLCODE', 'ST_COLDESC', 'SEGLANEKEY', 'CROSSWALKKEY', 'X','Y', 'SDOT_COLCODE', 'SDOT_COLDESC', 'SDOTCOLNUM'], 1, inplace = True)"
        },
        {
            "cell_type": "markdown",
            "metadata": {},
            "source": "## Check datatypes of imported data"
        },
        {
            "cell_type": "code",
            "execution_count": 9,
            "metadata": {},
            "outputs": [
                {
                    "data": {
                        "text/plain": "SEVERITYCODE       int64\nSTATUS            object\nADDRTYPE          object\nLOCATION          object\nCOLLISIONTYPE     object\nPERSONCOUNT        int64\nPEDCOUNT           int64\nPEDCYLCOUNT        int64\nVEHCOUNT           int64\nINCDTTM           object\nJUNCTIONTYPE      object\nINATTENTIONIND    object\nUNDERINFL         object\nWEATHER           object\nROADCOND          object\nLIGHTCOND         object\nPEDROWNOTGRNT     object\nSPEEDING          object\nHITPARKEDCAR      object\ndtype: object"
                    },
                    "execution_count": 9,
                    "metadata": {},
                    "output_type": "execute_result"
                }
            ],
            "source": "df.dtypes"
        },
        {
            "cell_type": "markdown",
            "metadata": {},
            "source": "## Preprocessing - Review each feature and fill in the NA's."
        },
        {
            "cell_type": "code",
            "execution_count": 10,
            "metadata": {},
            "outputs": [],
            "source": "df['SPEEDING'].fillna('N', inplace =True)\ndf['INATTENTIONIND'].fillna('N', inplace =True)\ndf['ROADCOND'].fillna('Unknown', inplace = True)\ndf['LIGHTCOND'].fillna('Unknown', inplace = True)\ndf['WEATHER'].fillna('Other', inplace = True)\ndf['UNDERINFL'].replace({'N':'0', 'Y':'1'}, inplace = True)\ndf['COLLISIONTYPE'].fillna('Other', inplace = True)"
        },
        {
            "cell_type": "markdown",
            "metadata": {},
            "source": "## Filling in the remaining NA's with '-99999' to make them extreme outliers"
        },
        {
            "cell_type": "code",
            "execution_count": 11,
            "metadata": {},
            "outputs": [],
            "source": "df.fillna(-99999, inplace = True)"
        },
        {
            "cell_type": "markdown",
            "metadata": {},
            "source": "## Checking how many more features have NA's"
        },
        {
            "cell_type": "code",
            "execution_count": 12,
            "metadata": {},
            "outputs": [
                {
                    "data": {
                        "text/plain": "SEVERITYCODE      0\nSTATUS            0\nADDRTYPE          0\nLOCATION          0\nCOLLISIONTYPE     0\nPERSONCOUNT       0\nPEDCOUNT          0\nPEDCYLCOUNT       0\nVEHCOUNT          0\nINCDTTM           0\nJUNCTIONTYPE      0\nINATTENTIONIND    0\nUNDERINFL         0\nWEATHER           0\nROADCOND          0\nLIGHTCOND         0\nPEDROWNOTGRNT     0\nSPEEDING          0\nHITPARKEDCAR      0\ndtype: int64"
                    },
                    "execution_count": 12,
                    "metadata": {},
                    "output_type": "execute_result"
                }
            ],
            "source": "df.isnull().sum(axis = 0)"
        },
        {
            "cell_type": "markdown",
            "metadata": {},
            "source": "## Handling the non-numerical data"
        },
        {
            "cell_type": "code",
            "execution_count": 13,
            "metadata": {},
            "outputs": [
                {
                    "data": {
                        "text/plain": "<bound method NDFrame.head of         SEVERITYCODE  STATUS  ADDRTYPE  LOCATION  COLLISIONTYPE  PERSONCOUNT  \\\n0                  2       0         0     19927              8            2   \n1                  1       0         2     18272              2            2   \n2                  1       0         2     11344              7            4   \n3                  1       0         2     20114              5            3   \n4                  2       0         0      3004              8            2   \n5                  1       0         0     15744              8            2   \n6                  1       0         0      4918              8            2   \n7                  2       0         0     19329              1            3   \n8                  1       0         2     21349              7            2   \n9                  2       0         0     17720              8            2   \n10                 1       0         3      5638              5            2   \n11                 1       0         0       807              8            2   \n12                 1       1         2       305              4            0   \n13                 1       0         2       192              7            2   \n14                 2       0         2     15670              9            2   \n15                 1       1         2      4526              5            1   \n16                 2       0         0     22002              6            3   \n17                 1       0         2     18800              4            0   \n18                 2       0         2     16118              4            4   \n19                 1       0         2     13015              7            2   \n20                 2       0         2     19417              4            3   \n21                 2       0         0     20775              8            5   \n22                 1       0         2      4723              7            2   \n23                 1       0         2     10637              5            1   \n24                 2       0         0     13434              4            3   \n25                 2       0         2     18999              1            2   \n26                 1       0         0     19159              6            2   \n27                 1       0         2      8891              8            2   \n28                 1       0         2     23428              5            2   \n29                 1       0         2     13814              7            2   \n...              ...     ...       ...       ...            ...          ...   \n194643             1       0         2      6502              7            2   \n194644             1       0         0      3312              8            2   \n194645             2       0         0     13716              0            5   \n194646             1       1         2     19789              5            2   \n194647             2       0         2      4165              3            2   \n194648             1       0         2     14669              8            2   \n194649             2       0         0     23310              6            6   \n194650             2       0         2     12335              7            5   \n194651             1       0         0     19329              3            3   \n194652             1       0         2     11573              7            3   \n194653             2       0         2       603              7            6   \n194654             1       1         0     16381              5            2   \n194655             2       1         0     20764              5            4   \n194656             2       0         0      2562              3            2   \n194657             1       0         2     19430              2            2   \n194658             1       0         2      4086              4            3   \n194659             1       0         2     10049              7            2   \n194660             2       0         2     17895              5            1   \n194661             2       0         2     15332              6            2   \n194662             1       0         2     14051              7            2   \n194663             2       0         2     14075              8            3   \n194664             1       0         0      1214              8            8   \n194665             1       0         0     14769              8            2   \n194666             2       0         2     21178              8            2   \n194667             1       0         2      9401              5            1   \n194668             2       0         2     11059              9            3   \n194669             1       0         2      7844              4            2   \n194670             2       0         0      7198              6            3   \n194671             2       0         0     15901              1            2   \n194672             1       0         2     18579              4            2   \n\n        PEDCOUNT  PEDCYLCOUNT  VEHCOUNT  INCDTTM  JUNCTIONTYPE  \\\n0              0            0         2   122872             1   \n1              0            0         2   132401             5   \n2              0            0         3   146264             5   \n3              0            0         3   152436             5   \n4              0            0         2   153158             1   \n5              0            0         2    52778             1   \n6              0            0         2   133518             1   \n7              0            1         1    34301             1   \n8              0            0         2    37419             5   \n9              0            0         2    54672             1   \n10             0            0         2   137860             6   \n11             0            0         2    49080             1   \n12             0            0         2    45132             5   \n13             0            0         2    61400             5   \n14             0            0         2    55266             5   \n15             0            0         0     4274             6   \n16             0            0         2   103794             1   \n17             0            0         2    13967             3   \n18             0            0         3   125217             5   \n19             0            0         2    21982             5   \n20             0            0         2    41308             5   \n21             0            0         3    79320             1   \n22             0            0         2   147519             5   \n23             0            0         1    40018             5   \n24             0            0         2    28734             1   \n25             0            1         1    61129             5   \n26             0            0         2   129780             1   \n27             0            0         2    85601             6   \n28             0            0         2   130160             5   \n29             0            0         2   110160             5   \n...          ...          ...       ...      ...           ...   \n194643         0            0         2    42440             5   \n194644         0            0         2   151613             1   \n194645         0            0         2    24043             7   \n194646         0            0         0   138395             5   \n194647         1            0         1   132816             5   \n194648         0            0         2    50883             5   \n194649         0            0         3   149625             1   \n194650         0            0         5   151175             5   \n194651         1            0         1    10421             1   \n194652         0            0         2   159858             5   \n194653         0            0         6    73027             5   \n194654         0            0         0    68354             1   \n194655         0            0         0    81475             1   \n194656         1            0         1    53201             1   \n194657         0            0         2    53903             5   \n194658         0            0         3    77557             5   \n194659         0            0         2   155400             0   \n194660         0            0         1    46124             5   \n194661         0            0         2    98041             3   \n194662         0            0         2    63426             3   \n194663         0            0         2   108940             5   \n194664         0            0         3   152711             1   \n194665         0            0         2    60653             1   \n194666         0            0         2    67878             5   \n194667         0            0         1    73286             5   \n194668         0            0         2    51643             5   \n194669         0            0         2     8689             5   \n194670         0            0         2    82727             1   \n194671         0            1         1    39588             1   \n194672         0            0         2   154756             5   \n\n        INATTENTIONIND  UNDERINFL  WEATHER  ROADCOND  LIGHTCOND  \\\n0                    1          1        1         4          7   \n1                    1          1        8         4          4   \n2                    1          1        1         2          7   \n3                    1          1       10         2          7   \n4                    1          1        8         4          7   \n5                    1          1       10         2          7   \n6                    1          1        8         4          7   \n7                    1          1       10         2          7   \n8                    1          1       10         2          7   \n9                    1          1       10         2          7   \n10                   1          1        1         2          7   \n11                   1          1       10         2          7   \n12                   1          1        8         4          4   \n13                   1          1        8         4          0   \n14                   1          1       10         2          4   \n15                   1          0        2         5          3   \n16                   1          1        1         2          7   \n17                   1          1        1         2          7   \n18                   1          1       10         2          7   \n19                   1          1        6         2          3   \n20                   1          1       10         2          4   \n21                   1          1       10         2          7   \n22                   0          1       10         2          4   \n23                   1          1        6         5          3   \n24                   1          1       10         2          7   \n25                   0          1       10         2          7   \n26                   1          1        1         4          3   \n27                   1          1       10         2          7   \n28                   1          1       10         2          7   \n29                   1          1       10         2          7   \n...                ...        ...      ...       ...        ...   \n194643               1          1       10         2          4   \n194644               1          1       10         2          5   \n194645               1          1       10         2          4   \n194646               1          0        2         5          3   \n194647               0          1        8         4          5   \n194648               1          2        8         4          4   \n194649               1          1       10         2          4   \n194650               1          1       10         2          7   \n194651               1          1       10         4          4   \n194652               0          1        1         4          5   \n194653               1          2        1         4          4   \n194654               1          0        2         5          3   \n194655               1          0        2         5          3   \n194656               1          1       10         2          7   \n194657               1          1        8         4          4   \n194658               1          1        8         4          4   \n194659               1          1        8         4          4   \n194660               1          1        8         4          2   \n194661               1          2       10         2          7   \n194662               1          1       10         2          5   \n194663               0          1        8         4          7   \n194664               1          1       10         2          7   \n194665               1          1       10         2          7   \n194666               1          1       10         4          7   \n194667               1          2        8         4          4   \n194668               1          1       10         2          7   \n194669               0          1        8         4          7   \n194670               1          1       10         2          7   \n194671               1          1       10         2          5   \n194672               1          1       10         4          7   \n\n        PEDROWNOTGRNT  SPEEDING  HITPARKEDCAR  \n0                   0         1             1  \n1                   0         1             1  \n2                   0         1             1  \n3                   0         1             1  \n4                   0         1             1  \n5                   0         1             1  \n6                   0         1             1  \n7                   0         1             1  \n8                   0         1             1  \n9                   0         1             1  \n10                  0         1             1  \n11                  0         1             1  \n12                  0         1             1  \n13                  0         1             1  \n14                  0         1             1  \n15                  0         1             1  \n16                  0         1             1  \n17                  0         1             1  \n18                  0         1             1  \n19                  0         1             1  \n20                  0         1             1  \n21                  0         1             1  \n22                  0         1             1  \n23                  0         1             1  \n24                  0         0             1  \n25                  0         1             1  \n26                  0         1             1  \n27                  0         1             1  \n28                  0         1             1  \n29                  0         1             1  \n...               ...       ...           ...  \n194643              0         1             1  \n194644              0         1             1  \n194645              0         1             1  \n194646              0         1             1  \n194647              0         1             1  \n194648              0         1             1  \n194649              0         1             1  \n194650              0         1             0  \n194651              0         1             1  \n194652              0         1             0  \n194653              0         1             0  \n194654              0         1             1  \n194655              0         1             1  \n194656              0         1             1  \n194657              0         1             1  \n194658              0         1             1  \n194659              0         1             0  \n194660              0         1             1  \n194661              0         1             1  \n194662              0         1             0  \n194663              0         1             1  \n194664              0         1             1  \n194665              0         1             1  \n194666              0         1             1  \n194667              0         1             1  \n194668              0         1             1  \n194669              0         1             1  \n194670              0         1             1  \n194671              0         1             1  \n194672              0         1             1  \n\n[194673 rows x 19 columns]>"
                    },
                    "execution_count": 13,
                    "metadata": {},
                    "output_type": "execute_result"
                }
            ],
            "source": "def handle_non_numerical_data(df):\n    columns = df.columns.values\n    \n    for column in columns:\n        text_digit_vals = {}\n        def convert_to_int(val):\n            return text_digit_vals[val]\n        \n        if df[column].dtype != np.int64 and df[column].dtype != np.float64:\n            column_contents = df[column].values.tolist()\n            unique_elements = set(column_contents)\n            x = 0\n            for unique in unique_elements:\n                if unique not in text_digit_vals:\n                    text_digit_vals[unique] = x\n                    x += 1\n            df[column] = list(map(convert_to_int, df[column]))\n    return df\ndf = handle_non_numerical_data(df)\ndf.head"
        },
        {
            "cell_type": "code",
            "execution_count": 14,
            "metadata": {},
            "outputs": [
                {
                    "data": {
                        "text/plain": "1    136485\n2     58188\nName: SEVERITYCODE, dtype: int64"
                    },
                    "execution_count": 14,
                    "metadata": {},
                    "output_type": "execute_result"
                }
            ],
            "source": "df['SEVERITYCODE'].value_counts() #Even though the metadata description shows 5 codes to classify severity, how many are actually present in the data?"
        },
        {
            "cell_type": "markdown",
            "metadata": {},
            "source": "## Setting up the Decision Tree Classifier"
        },
        {
            "cell_type": "code",
            "execution_count": 15,
            "metadata": {},
            "outputs": [],
            "source": "X = df.drop(['SEVERITYCODE'],1).values\ny = df['SEVERITYCODE'].values\nX_train, X_test, y_train, y_test = train_test_split(X, y, test_size = 0.3, random_state = 4)\nX = preprocessing.StandardScaler()"
        },
        {
            "cell_type": "code",
            "execution_count": 16,
            "metadata": {},
            "outputs": [
                {
                    "data": {
                        "text/plain": "(136271, 18)"
                    },
                    "execution_count": 16,
                    "metadata": {},
                    "output_type": "execute_result"
                }
            ],
            "source": "X_train.shape"
        },
        {
            "cell_type": "code",
            "execution_count": 17,
            "metadata": {},
            "outputs": [
                {
                    "data": {
                        "text/plain": "(136271,)"
                    },
                    "execution_count": 17,
                    "metadata": {},
                    "output_type": "execute_result"
                }
            ],
            "source": "y_train.shape"
        },
        {
            "cell_type": "code",
            "execution_count": 18,
            "metadata": {},
            "outputs": [
                {
                    "data": {
                        "text/plain": "DecisionTreeClassifier(class_weight=None, criterion='entropy', max_depth=None,\n            max_features=None, max_leaf_nodes=None,\n            min_impurity_decrease=0.0, min_impurity_split=None,\n            min_samples_leaf=1, min_samples_split=2,\n            min_weight_fraction_leaf=0.0, presort=False, random_state=None,\n            splitter='best')"
                    },
                    "execution_count": 18,
                    "metadata": {},
                    "output_type": "execute_result"
                }
            ],
            "source": "clf = DecisionTreeClassifier(criterion = \"entropy\")\nclf.fit(X_train, y_train)"
        },
        {
            "cell_type": "code",
            "execution_count": 19,
            "metadata": {},
            "outputs": [],
            "source": "prediction = clf.predict(X_test)"
        },
        {
            "cell_type": "code",
            "execution_count": 20,
            "metadata": {},
            "outputs": [
                {
                    "name": "stdout",
                    "output_type": "stream",
                    "text": "DecisionTrees's Accuracy:  0.6820143145782679\n"
                }
            ],
            "source": "print(\"DecisionTrees's Accuracy: \", metrics.accuracy_score(y_test, prediction))"
        },
        {
            "cell_type": "code",
            "execution_count": 21,
            "metadata": {},
            "outputs": [],
            "source": "#tree.plot_tree(clf)"
        },
        {
            "cell_type": "markdown",
            "metadata": {},
            "source": "## Let's compare to K-Nearest Neighbors performance"
        },
        {
            "cell_type": "code",
            "execution_count": 22,
            "metadata": {},
            "outputs": [
                {
                    "data": {
                        "text/plain": "KNeighborsClassifier(algorithm='auto', leaf_size=30, metric='minkowski',\n           metric_params=None, n_jobs=None, n_neighbors=2, p=2,\n           weights='uniform')"
                    },
                    "execution_count": 22,
                    "metadata": {},
                    "output_type": "execute_result"
                }
            ],
            "source": "clf_neighbors = KNeighborsClassifier(n_neighbors = 2)\nclf_neighbors.fit(X_train, y_train)"
        },
        {
            "cell_type": "code",
            "execution_count": 24,
            "metadata": {},
            "outputs": [
                {
                    "name": "stdout",
                    "output_type": "stream",
                    "text": "KNearestNeighbor's Accuracy:  0.667682613609123\n"
                }
            ],
            "source": "prediction_neigh = clf_neighbors.predict(X_test)\nprint(\"KNearestNeighbor's Accuracy: \", metrics.accuracy_score(y_test, prediction_neigh))"
        },
        {
            "cell_type": "markdown",
            "metadata": {},
            "source": "## Let's compare to SVM"
        },
        {
            "cell_type": "code",
            "execution_count": 26,
            "metadata": {},
            "outputs": [
                {
                    "name": "stderr",
                    "output_type": "stream",
                    "text": "/opt/conda/envs/Python36/lib/python3.6/site-packages/sklearn/svm/base.py:196: FutureWarning: The default value of gamma will change from 'auto' to 'scale' in version 0.22 to account better for unscaled features. Set gamma explicitly to 'auto' or 'scale' to avoid this warning.\n  \"avoid this warning.\", FutureWarning)\n"
                },
                {
                    "data": {
                        "text/plain": "SVC(C=1.0, cache_size=200, class_weight=None, coef0=0.0,\n  decision_function_shape='ovr', degree=3, gamma='auto_deprecated',\n  kernel='rbf', max_iter=-1, probability=False, random_state=None,\n  shrinking=True, tol=0.001, verbose=False)"
                    },
                    "execution_count": 26,
                    "metadata": {},
                    "output_type": "execute_result"
                }
            ],
            "source": "clf_svm = svm.SVC(kernel = 'rbf')\nclf_svm.fit(X_train, y_train)"
        },
        {
            "cell_type": "code",
            "execution_count": 27,
            "metadata": {},
            "outputs": [
                {
                    "name": "stdout",
                    "output_type": "stream",
                    "text": "SVM's (rbf) Accuracy:  0.7034176911749598\n"
                }
            ],
            "source": "prediction_svm = clf_svm.predict(X_test)\nprint(\"SVM's (rbf) Accuracy: \", metrics.accuracy_score(y_test, prediction_svm))"
        },
        {
            "cell_type": "code",
            "execution_count": null,
            "metadata": {},
            "outputs": [],
            "source": ""
        }
    ],
    "metadata": {
        "kernelspec": {
            "display_name": "Python 3.6",
            "language": "python",
            "name": "python3"
        },
        "language_info": {
            "codemirror_mode": {
                "name": "ipython",
                "version": 3
            },
            "file_extension": ".py",
            "mimetype": "text/x-python",
            "name": "python",
            "nbconvert_exporter": "python",
            "pygments_lexer": "ipython3",
            "version": "3.6.9"
        }
    },
    "nbformat": 4,
    "nbformat_minor": 1
}